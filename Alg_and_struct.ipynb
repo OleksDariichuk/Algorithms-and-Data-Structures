{
 "cells": [
  {
   "cell_type": "raw",
   "id": "c24b7d0d",
   "metadata": {},
   "source": [
    "Завдання 1. Написати програму, яка демонструє основні дії по роботі із \n",
    "двозв’язним списком цілих чисел: \n",
    "додати елемент до списку (в кінець);\n",
    "вилучити вказаний елемент зі списку;\n",
    "визначити кількість елементів у списку;\n",
    "поміняти два елементи місцями, які є сусідами елемента p.\n",
    "\n",
    "Завдання 2. Реалізувати програму для роботи з двома списками:\n",
    "одержати доступ до k-го елемента двох списків, якщо вони різні – поміняти \n",
    "місцями в списках;\n",
    "об'єднати два лінійних списки в один список;\n",
    "розбити лінійний список на два списки;\n",
    "зробити копію лінійного списку. \n",
    "\n",
    "Нижче реалізований функціонал для цих завдань:"
   ]
  },
  {
   "cell_type": "code",
   "execution_count": 1,
   "id": "9d8b3941",
   "metadata": {},
   "outputs": [],
   "source": [
    "class Node:\n",
    "    def __init__(self, data):\n",
    "        self.data = data\n",
    "        self.prev = None\n",
    "        self.next = None\n",
    "        \n",
    "class DoublyLinkedList:\n",
    "    \n",
    "    def __init__(self):\n",
    "        self.head = None\n",
    "        \n",
    "    def add(self, data):\n",
    "        if not isinstance(data, int):\n",
    "            raise TypeError(f\"{data} is not an integer.\")\n",
    "        new_node = Node(data)\n",
    "        if self.head is None:\n",
    "            self.head = new_node\n",
    "        else:\n",
    "            current = self.head\n",
    "            while current.next:\n",
    "                current = current.next\n",
    "            current.next = new_node\n",
    "            new_node.prev = current\n",
    "            \n",
    "    def remove(self, data):   \n",
    "        current = self.head\n",
    "        while current:\n",
    "            if current.data == data:\n",
    "                if current.prev is None:\n",
    "                    self.head = current.next\n",
    "                    if self.head:\n",
    "                        self.head.prev = None\n",
    "                else:\n",
    "                    current.prev.next = current.next\n",
    "                    if current.next:\n",
    "                        current.next.prev = current.prev\n",
    "                return True\n",
    "            current = current.next\n",
    "        return False\n",
    "    \n",
    "    def count(self):\n",
    "        count = 0\n",
    "        current = self.head\n",
    "        while current:\n",
    "            count += 1\n",
    "            current = current.next\n",
    "        return count\n",
    "    \n",
    "    def swap(self, p):\n",
    "        current = self.head\n",
    "        while current and current.data != p:\n",
    "            current = current.next\n",
    "        if current is None or current.next is None or current.prev is None:\n",
    "            return False\n",
    "        current.prev.data, current.next.data = current.next.data, current.prev.data\n",
    "        return True\n",
    "    \n",
    "    def swap_k(self, list2, k):\n",
    "        if k < 0 or k >= self.count() or k >= list2.count():\n",
    "            raise ValueError(f\"Index {k} is incorrect.\")\n",
    "        current1 = self.head\n",
    "        current2 = list2.head\n",
    "        for i in range(k):\n",
    "            current1 = current1.next\n",
    "            current2 = current2.next\n",
    "        if current1.data != current2.data:\n",
    "            current1.data, current2.data = current2.data, current1.data\n",
    "            \n",
    "    def merge(self,list2):\n",
    "        merge_list = DoublyLinkedList()\n",
    "        current = self.head\n",
    "        while current is not None:\n",
    "            merge_list.add(current.data)\n",
    "            current = current.next\n",
    "        current = list2.head\n",
    "        while current is not None:\n",
    "            merge_list.add(current.data)\n",
    "            current = current.next\n",
    "        return merge_list\n",
    "    \n",
    "    def print_list(self):\n",
    "        current = self.head\n",
    "        while current is not None:\n",
    "            print(current.data)\n",
    "            current =  current.next\n",
    "            \n",
    "    def copy(self):\n",
    "        copy_of_list = DoublyLinkedList()\n",
    "        current = self.head\n",
    "        while current is not None:\n",
    "            copy_of_list.add(current.data)\n",
    "            current = current.next\n",
    "        return copy_of_list\n",
    "    \n",
    "    def split(self,k):\n",
    "        list1 = DoublyLinkedList()\n",
    "        list2 = DoublyLinkedList()\n",
    "        current = self.head\n",
    "        for i in range(k):\n",
    "            list1.add(current.data)\n",
    "            current = current.next\n",
    "        while current is not None:\n",
    "            list2.add(current.data)\n",
    "            current = current.next\n",
    "        return list1,list2\n",
    "        "
   ]
  },
  {
   "cell_type": "raw",
   "id": "eb49103a",
   "metadata": {},
   "source": [
    "Тестування Завдання1:"
   ]
  },
  {
   "cell_type": "code",
   "execution_count": 2,
   "id": "fa068e4a",
   "metadata": {},
   "outputs": [
    {
     "name": "stdout",
     "output_type": "stream",
     "text": [
      "Список 1 після додавання елементів:\n",
      "5\n",
      "10\n",
      "15\n",
      "25\n",
      "Список 1 після видалення елементу:\n",
      "5\n",
      "15\n",
      "25\n",
      "Кількість елементів у Списку 1: 3\n",
      "Список 1 після зміни елементів місцями:\n",
      "25\n",
      "15\n",
      "5\n"
     ]
    }
   ],
   "source": [
    "# тестуємо додавання елементів до списку\n",
    "list1 = DoublyLinkedList()\n",
    "list1.add(5)\n",
    "list1.add(10)\n",
    "list1.add(15)\n",
    "list1.add(25)\n",
    "print(\"Список 1 після додавання елементів:\")\n",
    "list1.print_list()\n",
    "\n",
    "# тестуємо вилучення елементу зі списку\n",
    "list1.remove(10)\n",
    "print(\"Список 1 після видалення елементу:\")\n",
    "list1.print_list() \n",
    "\n",
    "# тестуємо отримання кількості елементів у списку\n",
    "print(\"Кількість елементів у Списку 1:\", list1.count()) \n",
    "\n",
    "# тестуємо поміняти два елементи місцями\n",
    "list1.swap(15)\n",
    "print(\"Список 1 після зміни елементів місцями:\")\n",
    "list1.print_list() \n"
   ]
  },
  {
   "cell_type": "raw",
   "id": "4b5866ff",
   "metadata": {},
   "source": [
    "Тестування Завдання2:"
   ]
  },
  {
   "cell_type": "code",
   "execution_count": 3,
   "id": "ea7065a2",
   "metadata": {},
   "outputs": [
    {
     "name": "stdout",
     "output_type": "stream",
     "text": [
      "До обміну: \n",
      "Список 1:\n",
      "5\n",
      "10\n",
      "15\n",
      "Список 2:\n",
      "20\n",
      "25\n",
      "30\n",
      "Після обміну: \n",
      "Список 1:\n",
      "5\n",
      "10\n",
      "30\n",
      "Список 2:\n",
      "20\n",
      "25\n",
      "15\n",
      "Об'єднання 1 та 2 списків: \n",
      "5\n",
      "10\n",
      "30\n",
      "20\n",
      "25\n",
      "15\n",
      "Розбиття: \n",
      "Список 1:\n",
      "5\n",
      "10\n",
      "Список 2:\n",
      "30\n",
      "20\n",
      "25\n",
      "15\n",
      "Копія: \n",
      "5\n",
      "10\n",
      "30\n"
     ]
    }
   ],
   "source": [
    "# тестуємо отримання доступу до k-го елементу двох списків \n",
    "list1 = DoublyLinkedList()\n",
    "list1.add(5)\n",
    "list1.add(10)\n",
    "list1.add(15)\n",
    "\n",
    "list2 = DoublyLinkedList()\n",
    "list2.add(20)\n",
    "list2.add(25)\n",
    "list2.add(30)\n",
    "\n",
    "print(\"До обміну: \")\n",
    "print(\"Список 1:\")\n",
    "list1.print_list() \n",
    "print(\"Список 2:\")\n",
    "list2.print_list() \n",
    "\n",
    "list1.swap_k(list2, 2)\n",
    "\n",
    "print(\"Після обміну: \")\n",
    "print(\"Список 1:\")\n",
    "list1.print_list() \n",
    "print(\"Список 2:\")\n",
    "list2.print_list() \n",
    "\n",
    "# тестуємо об'єднання двох лінійних списків\n",
    "print(\"Об'єднання 1 та 2 списків: \")\n",
    "list3 = list1.merge(list2)\n",
    "list3.print_list()\n",
    "\n",
    "# тестуємо розбиття списку на 2 по k-му елементу\n",
    "print(\"Розбиття: \")\n",
    "list4,list5 = list3.split(2)\n",
    "print(\"Список 1:\")\n",
    "list4.print_list() \n",
    "print(\"Список 2:\")\n",
    "list5.print_list() \n",
    "\n",
    "# тестуємо копіювання\n",
    "print(\"Копія: \")\n",
    "list6 = list1.copy()\n",
    "list6.print_list()"
   ]
  },
  {
   "cell_type": "raw",
   "id": "cfb1d2e5",
   "metadata": {},
   "source": [
    "Завдання 3. Написати програму, яка передбачає введення в стек цілих чисел \n",
    "з клавіатури. Вивести стек на екран. Створити і роздрукувати два стеки – з \n",
    "парними та непарними числами серед введених. "
   ]
  },
  {
   "cell_type": "code",
   "execution_count": 3,
   "id": "27f81df1",
   "metadata": {},
   "outputs": [],
   "source": [
    "class Stack:\n",
    "    def __init__(self):\n",
    "        self.items = []\n",
    "\n",
    "    def push(self, item):\n",
    "        self.items.append(item)\n",
    "\n",
    "    def pop(self):\n",
    "        return self.items.pop()\n",
    "\n",
    "    def is_empty(self):\n",
    "        return len(self.items) == 0\n",
    "\n",
    "    def size(self):\n",
    "        return len(self.items)\n",
    "    \n",
    "    def get(self,item):\n",
    "        return self.items[item]\n",
    "    \n",
    "    def print_s(self):\n",
    "        print(self.items)\n",
    "    \n",
    "    \n",
    "def input_stack(stack:Stack):\n",
    "        while True:\n",
    "            num_str = input(\"Введіть ціле число або 'stop' для завершення введення: \")\n",
    "            if num_str == 'stop':\n",
    "                break\n",
    "            try:\n",
    "                num = int(num_str)\n",
    "                stack.push(num)\n",
    "            except ValueError:\n",
    "                print(\"Введено некоректне значення, спробуйте ще раз\")\n",
    "def split_stack(stack: Stack):\n",
    "    even_stack = Stack()\n",
    "    odd_stack = Stack()\n",
    "    for i in range (stack.size()):\n",
    "        num = stack.items[i]\n",
    "        if num % 2 == 0:\n",
    "            even_stack.push(num)\n",
    "        else:\n",
    "            odd_stack.push(num)\n",
    "    return even_stack,odd_stack"
   ]
  },
  {
   "cell_type": "raw",
   "id": "ed9f9716",
   "metadata": {},
   "source": [
    "Перейдемо до тестування:"
   ]
  },
  {
   "cell_type": "code",
   "execution_count": 48,
   "id": "ec76e5ac",
   "metadata": {},
   "outputs": [
    {
     "name": "stdout",
     "output_type": "stream",
     "text": [
      "Введіть ціле число або 'stop' для завершення введення: 1\n",
      "Введіть ціле число або 'stop' для завершення введення: 2\n",
      "Введіть ціле число або 'stop' для завершення введення: 3\n",
      "Введіть ціле число або 'stop' для завершення введення: 4\n",
      "Введіть ціле число або 'stop' для завершення введення: 5\n",
      "Введіть ціле число або 'stop' для завершення введення: 6\n",
      "Введіть ціле число або 'stop' для завершення введення: 7\n",
      "Введіть ціле число або 'stop' для завершення введення: stop\n"
     ]
    }
   ],
   "source": [
    "stack = Stack()\n",
    "input_stack(stack)"
   ]
  },
  {
   "cell_type": "code",
   "execution_count": 49,
   "id": "7faeec20",
   "metadata": {},
   "outputs": [
    {
     "name": "stdout",
     "output_type": "stream",
     "text": [
      "[1, 2, 3, 4, 5, 6, 7]\n"
     ]
    }
   ],
   "source": [
    "#виведемо стек на екран\n",
    "stack.print_s()"
   ]
  },
  {
   "cell_type": "code",
   "execution_count": 50,
   "id": "2a3040b5",
   "metadata": {},
   "outputs": [],
   "source": [
    "#розбиваємо стек на стеки з парних і непарних чисел \n",
    "even_stack ,odd_stack =  split_stack(stack)"
   ]
  },
  {
   "cell_type": "code",
   "execution_count": 51,
   "id": "00b79b0d",
   "metadata": {},
   "outputs": [
    {
     "name": "stdout",
     "output_type": "stream",
     "text": [
      "[1, 3, 5, 7]\n",
      "[2, 4, 6]\n"
     ]
    }
   ],
   "source": [
    "#перевіряємо результат\n",
    "odd_stack.print_s()\n",
    "even_stack.print_s()"
   ]
  },
  {
   "cell_type": "raw",
   "id": "66fc7ae7",
   "metadata": {},
   "source": [
    "Завдання 4. Операції над множинами. Реалізувати операції над \n",
    "множинами, що задані у вигляді масивів. Операції – об’єднання, перетин, \n",
    "доповнення, різниця, симетрична різниця."
   ]
  },
  {
   "cell_type": "code",
   "execution_count": 40,
   "id": "82d48467",
   "metadata": {},
   "outputs": [],
   "source": [
    "class Set:\n",
    "    def __init__(self, elements):\n",
    "        self.elements = set(elements)\n",
    "    \n",
    "    def add(self, element):\n",
    "        self.elements.add(element)\n",
    "        \n",
    "    \n",
    "    def remove(self, element):\n",
    "        self.elements.remove(element)\n",
    "    \n",
    "    def union(self, other_set):\n",
    "        return Set(self.elements.union(other_set.elements))\n",
    "    \n",
    "    def intersection(self, other_set):\n",
    "        return Set(self.elements.intersection(other_set.elements))\n",
    "    \n",
    "    def complement(self, universal_set):\n",
    "        return Set(universal_set.elements.difference(self.elements))\n",
    "    \n",
    "    def difference(self, other_set):\n",
    "        return Set(self.elements.difference(other_set.elements))\n",
    "    \n",
    "    def symmetric_difference(self, other_set):\n",
    "        return Set(self.elements.symmetric_difference(other_set.elements))\n",
    "    \n",
    "    \n",
    "    def size(self):\n",
    "        return len(self.elements)\n",
    "    \n",
    "    def to_list(self):\n",
    "        return list(self.elements)"
   ]
  },
  {
   "cell_type": "raw",
   "id": "d719f953",
   "metadata": {},
   "source": [
    "Перейдемо до тестування:"
   ]
  },
  {
   "cell_type": "code",
   "execution_count": 47,
   "id": "f9840b06",
   "metadata": {},
   "outputs": [
    {
     "name": "stdout",
     "output_type": "stream",
     "text": [
      "Множина 1: [1, 2, 3, 4]\n",
      "Множина 2: [3, 4, 5, 6, 7, 8]\n",
      "Множина 1 після додавання елементу 5: [1, 2, 3, 4, 5]\n",
      "Множина 2 після видалення елементу 6: [3, 4, 5, 6, 7]\n",
      "Об'єднання: [1, 2, 3, 4, 5, 6, 7]\n",
      "Перетин: [3, 4, 5]\n",
      "Різниця 1-2: [1, 2]\n",
      "Різниця 2-1: [6, 7]\n",
      "Симетрична різниця: [1, 2, 6, 7]\n",
      "Доповнення множини 1 відносно множини 2: [6, 7]\n"
     ]
    }
   ],
   "source": [
    "set1 = Set([1, 2, 3, 4])\n",
    "set2 = Set([3, 4, 5, 6, 7, 8])\n",
    "\n",
    "print(\"Множина 1:\", set1.to_list())\n",
    "print(\"Множина 2:\", set2.to_list())\n",
    "\n",
    "set1.add(5)\n",
    "set2.remove(8)\n",
    "\n",
    "print(\"Множина 1 після додавання елементу 5:\", set1.to_list())\n",
    "print(\"Множина 2 після видалення елементу 6:\", set2.to_list())\n",
    "\n",
    "print(\"Об'єднання:\", set1.union(set2).to_list())\n",
    "print(\"Перетин:\", set1.intersection(set2).to_list())\n",
    "print(\"Різниця 1-2:\", set1.difference(set2).to_list())\n",
    "print(\"Різниця 2-1:\", set2.difference(set1).to_list())\n",
    "print(\"Симетрична різниця:\", set1.symmetric_difference(set2).to_list())\n",
    "print(\"Доповнення множини 1 відносно множини 2:\", set1.complement(set2).to_list())\n"
   ]
  },
  {
   "cell_type": "raw",
   "id": "0860512b",
   "metadata": {},
   "source": [
    "Завдання 5. \n",
    "Дано рядок символів, що містить дужки різних видів (круглі, фігурні, \n",
    "квадратні). Перевірте правильність розставлення в ньому круглих дужок, будь яких дужок.\n",
    "Наприклад, [ { ( } ) { ] [ } ( [ ] ) { }."
   ]
  },
  {
   "cell_type": "raw",
   "id": "10b44f9f",
   "metadata": {},
   "source": [
    "Алгоритм:\n",
    "1) Створити порожній стек.\n",
    "2) Пройтися по кожному символу рядка. Якщо символ - відкриваюча дужка то додати її до стеку.\n",
    "3) Якщо символ - закриваюча дужка, то перевірити, чи збігається вона з останньою відкриваючою дужкою на вершині стеку. Якщо так,  то вилучаємо останню дужку зі стеку і перейти до наступного символу. Якщо ні, то дужки розставлені неправильно, повернути False.\n",
    "4)Перевірити, чи стек порожній. Якщо так, то дужки розставлені правильно, повернути True. Якщо ні, то дужки розставлені неправильно, повернути False."
   ]
  },
  {
   "cell_type": "code",
   "execution_count": 19,
   "id": "7840ca74",
   "metadata": {},
   "outputs": [],
   "source": [
    "def check_brackets(string):\n",
    "    stack = Stack()\n",
    "    opening = \"([{\"\n",
    "    closing = \")]}\"\n",
    "    for char in string:\n",
    "        if char in opening:\n",
    "            stack.push(char)\n",
    "        elif char in closing:\n",
    "            if stack.is_empty():\n",
    "                return False\n",
    "            if opening.index(stack.get(-1)) == closing.index(char):\n",
    "                stack.pop()\n",
    "            else:\n",
    "                return False\n",
    "    return stack.is_empty()\n"
   ]
  },
  {
   "cell_type": "raw",
   "id": "e142d734",
   "metadata": {},
   "source": [
    "Протестуємо функцію :"
   ]
  },
  {
   "cell_type": "code",
   "execution_count": 29,
   "id": "3c0e8595",
   "metadata": {},
   "outputs": [
    {
     "name": "stdout",
     "output_type": "stream",
     "text": [
      "True\n",
      "False\n"
     ]
    }
   ],
   "source": [
    "s = \"[ { ( ) } ] ( ) [ { } ]\"\n",
    "print(check_brackets(s)) \n",
    "\n",
    "s =  \"[ { ( } ) { ] [ } ( [ ] ) { }\"\n",
    "\n",
    "print(check_brackets(s))  \n"
   ]
  },
  {
   "cell_type": "raw",
   "id": "6b300efb",
   "metadata": {},
   "source": [
    "Завдання 6.\n",
    "Реалізуйте алгоритми обчислення арифметичних виразів – перетворення в \n",
    "постфіксну форму, обчислення постфіксного виразу."
   ]
  },
  {
   "cell_type": "raw",
   "id": "55a5247d",
   "metadata": {},
   "source": [
    "Алгоритм:\n",
    "1) Створити порожній стек.\n",
    "2) Прочитати вираз зліва направо.\n",
    "3) Якщо токен - операнд, то додати його до стеку.\n",
    "4) Якщо токен - оператор, то витягнути два операнди з вершини стеку, застосувати до них операцію та додати результат до стеку.\n",
    "5) Повторюємо кроки 3-4 для кожного токена виразу.\n",
    "6) Коли вираз повністю оброблено, вершина стеку містить результат обчислення виразу.\n"
   ]
  },
  {
   "cell_type": "code",
   "execution_count": 61,
   "id": "de5208ba",
   "metadata": {},
   "outputs": [],
   "source": [
    "def infix_to_postfix(expression):\n",
    "    stack = Stack()\n",
    "    postfix = []\n",
    "    i = 0\n",
    "    while i < len(expression):\n",
    "        token = expression[i]\n",
    "        i += 1\n",
    "        if token.isdigit():\n",
    "            while i < len(expression) and expression[i].isdigit():\n",
    "                token += expression[i]\n",
    "                i += 1\n",
    "            postfix.append(token)\n",
    "        elif token == '(':\n",
    "            stack.push(token)\n",
    "        elif token == ')':\n",
    "            while stack.get(-1) != '(':\n",
    "                postfix.append(stack.pop())\n",
    "            stack.pop()\n",
    "        elif token in '/*':\n",
    "            stack.push(token)\n",
    "        elif token in '+-':\n",
    "            while not stack.is_empty() and stack.get(-1) in '/*':\n",
    "                postfix.append(stack.pop())\n",
    "            stack.push(token)\n",
    "    while not stack.is_empty():\n",
    "        postfix.append(stack.pop())\n",
    "    return postfix\n",
    "\n",
    "def postfix_eval(postfix):\n",
    "    stack = Stack()\n",
    "    for token in postfix:\n",
    "        if token.isdigit():\n",
    "            stack.push(int(token))\n",
    "        elif token == '+':\n",
    "            stack.push(stack.pop() + stack.pop())\n",
    "        elif token == '-':\n",
    "            a, b = stack.pop(), stack.pop()\n",
    "            stack.push(b - a)\n",
    "        elif token == '*':\n",
    "            stack.push(stack.pop() * stack.pop())\n",
    "        elif token == '/':\n",
    "            a, b = stack.pop(), stack.pop()\n",
    "            stack.push(b / a)\n",
    "    return stack.pop()"
   ]
  },
  {
   "cell_type": "raw",
   "id": "0c269b36",
   "metadata": {},
   "source": [
    "Перейдемо до тестування :"
   ]
  },
  {
   "cell_type": "code",
   "execution_count": 67,
   "id": "ab7fb933",
   "metadata": {},
   "outputs": [
    {
     "name": "stdout",
     "output_type": "stream",
     "text": [
      "postfix form: 2 3 4 * 6 3 / 5 2 * 5 2 - + + + +\n",
      "result : 29.0\n"
     ]
    }
   ],
   "source": [
    "#Варіант 2\n",
    "expression = \"2+3*4+6/3+5*2+5-2\"\n",
    "\n",
    "if check_brackets(expression):\n",
    "    postfix = infix_to_postfix(expression)\n",
    "    res = postfix_eval(postfix)\n",
    "    print(f\"postfix form: {' '.join(postfix)}\")\n",
    "    print(\"result :\" , res)\n",
    "    \n",
    "else:\n",
    "    print(\"Invalid expression\")\n",
    "    \n"
   ]
  },
  {
   "cell_type": "raw",
   "id": "7fec58ca",
   "metadata": {},
   "source": [
    "Завдання 7. \n",
    "Черги часто використовуються для моделювання потоку людей, машин, літаків, банківських операцій і т. д. \n",
    "Напишіть програму, що моделює чергу покупців до каси в магазині. \n",
    "Програма повинна відображати вміст відразу декількох черг. \n",
    "Новий покупець переміщується в чергу натисканням клавіші. Ви повинні самостійно визначити, \n",
    "яким чином він буде вибирати чергу (мінімальна довжина черги). \n",
    "Обслуговування кожного покупця має випадкову тривалість (в залежності від \n",
    "кількості товарів в кошику). Обслужені покупці видаляються з черги."
   ]
  },
  {
   "cell_type": "code",
   "execution_count": 2,
   "id": "3b558ff5",
   "metadata": {},
   "outputs": [
    {
     "name": "stdout",
     "output_type": "stream",
     "text": [
      "Added Customer 1(13) to queue 1\n",
      "Added Customer 2(15) to queue 2\n",
      "Added Customer 3(13) to queue 3\n",
      "Added Customer 4(12) to queue 1\n",
      "Added Customer 5(15) to queue 2\n",
      "Added Customer 6(12) to queue 3\n",
      "Added Customer 7(11) to queue 1\n",
      "Added Customer 8(12) to queue 2\n",
      "Queue 1: Customer 1(13) Customer 4(12) Customer 7(11)\n",
      "Queue 2: Customer 2(15) Customer 5(15) Customer 8(12)\n",
      "Queue 3: Customer 3(13) Customer 6(12)\n",
      "Start serving Customer 1(13) from cashier 1\n",
      "Start serving Customer 2(15) from cashier 2\n",
      "Start serving Customer 3(13) from cashier 3\n",
      "Finish serving Customer 3(13) from cashier 3\n",
      "Finish serving Customer 1(13) from cashier 1\n",
      "Start serving Customer 6(12) from cashier 3\n",
      "Start serving Customer 4(12) from cashier 1\n",
      "Finish serving Customer 2(15) from cashier 2\n",
      "Start serving Customer 7(11) from cashier 1\n",
      "Finish serving Customer 6(12) from cashier 3\n",
      "Start serving Customer 5(15) from cashier 2\n",
      "Finish serving Customer 4(12) from cashier 1\n",
      "Start serving Customer 8(12) from cashier 2\n",
      "Finish serving Customer 7(11) from cashier 1\n",
      "Finish serving Customer 8(12) from cashier 2\n",
      "Finish serving Customer 5(15) from cashier 2\n",
      "All customers have been served.\n"
     ]
    }
   ],
   "source": [
    "import random\n",
    "import time\n",
    "from concurrent.futures import ThreadPoolExecutor\n",
    "\n",
    "class Customer:\n",
    "    def __init__(self, id):\n",
    "        self.id = id\n",
    "        self.items = random.randint(10, 15)\n",
    "\n",
    "    def __repr__(self):\n",
    "        return f'Customer {self.id}({self.items})'\n",
    "\n",
    "class Queue:\n",
    "    def __init__(self):\n",
    "        self.items = []\n",
    "\n",
    "    def is_empty(self):\n",
    "        return not bool(self.items)\n",
    "\n",
    "    def enqueue(self, item):\n",
    "        self.items.append(item)\n",
    "\n",
    "    def dequeue(self):\n",
    "        return self.items.pop(0)\n",
    "\n",
    "class Cashier:\n",
    "    def __init__(self, id):\n",
    "        self.id = id\n",
    "        self.is_free = True\n",
    "        self.current_customer = None\n",
    "\n",
    "    def serve_customer(self, customer):\n",
    "        self.is_free = False\n",
    "        self.current_customer = customer\n",
    "        print(f'Start serving {customer} from cashier {self.id}')\n",
    "        time.sleep(customer.items)  # затримка на обслуговування\n",
    "        print(f'Finish serving {customer} from cashier {self.id}')\n",
    "        self.is_free = True\n",
    "        self.current_customer = None\n",
    "        \n",
    "def display_queues(queues):\n",
    "    for i, q in enumerate(queues):\n",
    "        print(f\"Queue {i+1}: {' '.join(str(c) for c in q.items)}\")\n",
    "\n",
    "num_customers = 8\n",
    "num_cashiers = 3\n",
    "\n",
    "queues = [Queue() for _ in range(num_cashiers)]\n",
    "cashiers = [Cashier(i+1) for i in range(num_cashiers)]\n",
    "\n",
    "for i in range(num_customers):\n",
    "    customer = Customer(i+1)\n",
    "    min_queue = min(queues, key=lambda q: len(q.items))\n",
    "    min_queue.enqueue(customer)\n",
    "    print(f'Added {customer} to queue {queues.index(min_queue)+1}')\n",
    "    \n",
    "display_queues(queues)\n",
    "with ThreadPoolExecutor(max_workers=num_cashiers) as executor:\n",
    "    while any(not queue.is_empty() for queue in queues):\n",
    "        for cashier, queue in zip(cashiers, queues):\n",
    "            if not queue.is_empty() and cashier.is_free:\n",
    "                customer = queue.dequeue()\n",
    "                executor.submit(cashier.serve_customer, customer)\n",
    "\n",
    "\n",
    "print('All customers have been served.')\n"
   ]
  },
  {
   "cell_type": "code",
   "execution_count": null,
   "id": "8a487859",
   "metadata": {},
   "outputs": [],
   "source": []
  }
 ],
 "metadata": {
  "kernelspec": {
   "display_name": "Python 3 (ipykernel)",
   "language": "python",
   "name": "python3"
  },
  "language_info": {
   "codemirror_mode": {
    "name": "ipython",
    "version": 3
   },
   "file_extension": ".py",
   "mimetype": "text/x-python",
   "name": "python",
   "nbconvert_exporter": "python",
   "pygments_lexer": "ipython3",
   "version": "3.10.0"
  }
 },
 "nbformat": 4,
 "nbformat_minor": 5
}
